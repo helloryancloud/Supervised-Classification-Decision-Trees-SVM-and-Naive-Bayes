{
  "nbformat": 4,
  "nbformat_minor": 0,
  "metadata": {
    "colab": {
      "provenance": []
    },
    "kernelspec": {
      "name": "python3",
      "display_name": "Python 3"
    },
    "language_info": {
      "name": "python"
    }
  },
  "cells": [
    {
      "cell_type": "markdown",
      "source": [
        "Question 1 : What is Information Gain, and how is it used in Decision Trees?\n",
        "\n",
        "\n",
        "\n",
        "Information Gain (IG) is a metric used in Decision Trees to decide which feature (attribute) to split the data on at each node. It measures how much “information” or “purity” is gained by splitting the dataset based on a specific feature.\n",
        "\n",
        "\n",
        "\n",
        " 🔹 Concept\n",
        "\n",
        "When building a decision tree, the goal is to reduce uncertainty (entropy) in the data with each split.\n",
        "Information Gain tells us how much a feature helps in classifying the data correctly.\n",
        "\n",
        "\n",
        " 🔹 Formula\n",
        "\n",
        "[\n",
        "\\text{Information Gain (IG)} = \\text{Entropy (Parent)} - \\sum_{i=1}^{k} \\frac{n_i}{n} \\times \\text{Entropy (Child}_i)\n",
        "]\n",
        "\n",
        "Where:\n",
        "\n",
        "* Entropy (Parent) = measure of impurity before the split\n",
        "* Entropy (Child) = impurity after the split\n",
        "* ( n_i ) = number of samples in child node i\n",
        "* ( n ) = total number of samples before split\n",
        "\n",
        "\n",
        " 🔹 Entropy Formula\n",
        "\n",
        "[\n",
        "\\text{Entropy}(S) = - \\sum_{j=1}^{c} p_j \\log_2(p_j)\n",
        "]\n",
        "where ( p_j ) is the proportion of class *j* in the dataset.\n",
        "\n",
        "\n",
        " 🔹 Interpretation\n",
        "\n",
        "* High Information Gain: The feature provides a large reduction in uncertainty — a good feature to split on.\n",
        "* Low Information Gain: The feature doesn't help much in classifying — not useful for splitting.\n",
        "\n",
        "\n",
        " 🔹 Example\n",
        "\n",
        "Suppose we are predicting whether a person will Play tennis based on weather (Sunny, Overcast, Rainy).\n",
        "\n",
        "1. Calculate the entropy of the target (Play Tennis).\n",
        "2. Split the data by each feature (e.g., Weather, Temperature, Humidity).\n",
        "3. Calculate the entropy after the split for each feature.\n",
        "4. Compute Information Gain for each feature.\n",
        "5. The feature with the highest Information Gain is chosen for the split.\n",
        "\n",
        "\n",
        " 🔹 In Decision Trees\n",
        "\n",
        "* At each node, the algorithm computes Information Gain for all features.\n",
        "* The feature with maximum IG is selected as the splitting attribute.\n",
        "* This process continues recursively until stopping conditions are met (e.g., max depth, no gain).\n",
        "\n",
        "\n",
        "Example in Scikit-learn:\n",
        "Decision Tree (using criterion='entropy') in scikit-learn uses Information Gain to build the tree.\n",
        "\n",
        "```python\n",
        "from sklearn.tree import DecisionTreeClassifier\n",
        "\n",
        "clf = DecisionTreeClassifier(criterion='entropy')\n",
        "clf.fit(X_train, y_train)\n",
        "```\n",
        "\n",
        "\n",
        "Question 2: What is the difference between Gini Impurity and Entropy?\n",
        "\n",
        "\n",
        "\n",
        "Both Gini Impurity and Entropy are measures used in Decision Trees to check how pure or impure a node is — that means, how mixed the classes are in that node.\n",
        "The goal of a decision tree is to split the data in such a way that the resulting groups (nodes) are as pure as possible — each containing mostly one class.\n",
        "\n",
        "\n",
        "Gini Impurity measures how often you would misclassify an item if you randomly labeled it according to the class distribution in the node.\n",
        "Its formula is:\n",
        "[\n",
        "Gini = 1 - \\sum p_i^2\n",
        "]\n",
        "Here, ( p_i ) is the probability of each class.\n",
        "A Gini value of 0 means the node is pure (only one class), while higher values mean more mixing.\n",
        "Gini is simple and fast to calculate since it doesn't use logarithms.\n",
        "\n",
        "\n",
        "Entropy, on the other hand, comes from information theory and measures the amount of disorder or uncertainty in the data.\n",
        "Its formula is:\n",
        "[\n",
        "Entropy = -\\sum p_i \\log_2(p_i)\n",
        "]\n",
        "Like Gini, 0 means the node is pure, and higher values mean more uncertainty.\n",
        "Entropy gives a more theoretical and information-based view of impurity but is slightly slower to compute because it uses logarithms\n",
        "\n",
        "In practice, both give very similar results.\n",
        "\n",
        "* Gini Impurity is used by the CART algorithm (the default in scikit-learn).\n",
        "* Entropy is used by ID3 and C4.5 decision tree algorithms.\n",
        "\n",
        "Gini tends to be a bit faster and sometimes slightly biased toward the majority class, while Entropy provides more balanced splits but takes a bit longer.\n",
        "\n",
        "\n",
        "\n",
        "Question 3:What is Pre-Pruning in Decision Trees?\n",
        "\n",
        "\n",
        "Pre-Pruning (also called Early Stopping) is a technique used to stop the growth of a decision tree early — before it becomes too complex or starts overfitting                                            \n",
        "\n",
        "\n",
        "\n"
      ],
      "metadata": {
        "id": "PwKAcmfgJBRy"
      }
    },
    {
      "cell_type": "markdown",
      "source": [
        "Question 4:Write a Python program to train a Decision Tree Classifier using Gini\n",
        "Impurity as the criterion and print the feature importances (practical).\n"
      ],
      "metadata": {
        "id": "pIXya_UELyar"
      }
    },
    {
      "cell_type": "code",
      "source": [
        "#4\n",
        "# Import necessary libraries\n",
        "from sklearn.datasets import load_iris\n",
        "from sklearn.tree import DecisionTreeClassifier\n",
        "import pandas as pd\n",
        "\n",
        "# Load dataset (Iris dataset for example)\n",
        "iris = load_iris()\n",
        "X = iris.data\n",
        "y = iris.target\n",
        "\n",
        "# Create a Decision Tree Classifier using Gini Impurity\n",
        "clf = DecisionTreeClassifier(criterion='gini', random_state=42)\n",
        "\n",
        "# Train (fit) the model\n",
        "clf.fit(X, y)\n",
        "\n",
        "# Get feature importances\n",
        "feature_importance = clf.feature_importances_\n",
        "\n",
        "# Display feature importances with feature names\n",
        "importance_df = pd.DataFrame({\n",
        "    'Feature': iris.feature_names,\n",
        "    'Importance': feature_importance\n",
        "})\n",
        "\n",
        "print(\"Feature Importances:\")\n",
        "print(importance_df)\n"
      ],
      "metadata": {
        "colab": {
          "base_uri": "https://localhost:8080/"
        },
        "id": "raWatMnMLz0_",
        "outputId": "64ce70d8-0ca0-4d34-d9a1-b0dab1815451"
      },
      "execution_count": 1,
      "outputs": [
        {
          "output_type": "stream",
          "name": "stdout",
          "text": [
            "Feature Importances:\n",
            "             Feature  Importance\n",
            "0  sepal length (cm)    0.013333\n",
            "1   sepal width (cm)    0.000000\n",
            "2  petal length (cm)    0.564056\n",
            "3   petal width (cm)    0.422611\n"
          ]
        }
      ]
    },
    {
      "cell_type": "markdown",
      "source": [
        "Question 5: What is a Support Vector Machine (SVM)?\n",
        "\n",
        "\n",
        "A Support Vector Machine (SVM) is a supervised machine learning algorithm used for classification and regression tasks — but it's most commonly used for classification.\n",
        "\n"
      ],
      "metadata": {
        "id": "cipK5ii2MXxK"
      }
    },
    {
      "cell_type": "code",
      "source": [
        "#5\n",
        "from sklearn import datasets\n",
        "from sklearn.model_selection import train_test_split\n",
        "from sklearn.svm import SVC\n",
        "\n",
        "# Load dataset\n",
        "iris = datasets.load_iris()\n",
        "X = iris.data\n",
        "y = iris.target\n",
        "\n",
        "# Split data\n",
        "X_train, X_test, y_train, y_test = train_test_split(X, y, test_size=0.3, random_state=42)\n",
        "\n",
        "# Train SVM model\n",
        "clf = SVC(kernel='linear')  # using linear kernel\n",
        "clf.fit(X_train, y_train)\n",
        "\n",
        "# Evaluate\n",
        "print(\"Accuracy:\", clf.score(X_test, y_test))\n"
      ],
      "metadata": {
        "colab": {
          "base_uri": "https://localhost:8080/"
        },
        "id": "ZVXpdzVHMkwZ",
        "outputId": "af957f61-d7e4-429e-b371-42882f2d9983"
      },
      "execution_count": 2,
      "outputs": [
        {
          "output_type": "stream",
          "name": "stdout",
          "text": [
            "Accuracy: 1.0\n"
          ]
        }
      ]
    },
    {
      "cell_type": "markdown",
      "source": [
        "Question 6: What is the Kernel Trick in SVM?\n",
        "\n",
        "\n",
        "The Kernel Trick is a smart mathematical method used in Support Vector Machines (SVMs) to handle non-linear data — that is, data that cannot be separated by a straight line.\n",
        "\n"
      ],
      "metadata": {
        "id": "o4wLbBQQMvWa"
      }
    },
    {
      "cell_type": "code",
      "source": [
        "#6\n",
        "from sklearn.svm import SVC\n",
        "from sklearn.datasets import make_circles\n",
        "import matplotlib.pyplot as plt\n",
        "\n",
        "# Create circular non-linear data\n",
        "X, y = make_circles(n_samples=100, factor=0.3, noise=0.05)\n",
        "\n",
        "# Train SVM with RBF kernel\n",
        "clf = SVC(kernel='rbf')\n",
        "clf.fit(X, y)\n",
        "\n",
        "# Plot data\n",
        "plt.scatter(X[:, 0], X[:, 1], c=y, cmap='coolwarm')\n",
        "plt.title(\"Non-linear data handled by Kernel Trick (RBF Kernel)\")\n",
        "plt.show()\n"
      ],
      "metadata": {
        "colab": {
          "base_uri": "https://localhost:8080/",
          "height": 452
        },
        "id": "R7-m7rOfM1wD",
        "outputId": "ba8fbd9f-0283-473c-e9a2-fc04d73b9036"
      },
      "execution_count": 3,
      "outputs": [
        {
          "output_type": "display_data",
          "data": {
            "text/plain": [
              "<Figure size 640x480 with 1 Axes>"
            ],
            "image/png": "[encoded data removed]"
          },
          "metadata": {}
        }
      ]
    },
    {
      "cell_type": "markdown",
      "source": [
        "Question 7: Write a Python program to train two SVM classifiers with Linear and RBF kernels on the Wine dataset, then compare their accuracies.\n"
      ],
      "metadata": {
        "id": "q3OKhi8PNBnQ"
      }
    },
    {
      "cell_type": "code",
      "source": [
        "# Import libraries\n",
        "from sklearn import datasets\n",
        "from sklearn.model_selection import train_test_split\n",
        "from sklearn.svm import SVC\n",
        "from sklearn.metrics import accuracy_score\n",
        "\n",
        "# Load the Wine dataset\n",
        "wine = datasets.load_wine()\n",
        "X = wine.data\n",
        "y = wine.target\n",
        "\n",
        "# Split into training and testing sets\n",
        "X_train, X_test, y_train, y_test = train_test_split(\n",
        "    X, y, test_size=0.3, random_state=42\n",
        ")\n",
        "\n",
        "# Create two SVM classifiers with different kernels\n",
        "svm_linear = SVC(kernel='linear', random_state=42)\n",
        "svm_rbf = SVC(kernel='rbf', random_state=42)\n",
        "\n",
        "# Train both models\n",
        "svm_linear.fit(X_train, y_train)\n",
        "svm_rbf.fit(X_train, y_train)\n",
        "\n",
        "# Make predictions\n",
        "y_pred_linear = svm_linear.predict(X_test)\n",
        "y_pred_rbf = svm_rbf.predict(X_test)\n",
        "\n",
        "# Calculate accuracies\n",
        "acc_linear = accuracy_score(y_test, y_pred_linear)\n",
        "acc_rbf = accuracy_score(y_test, y_pred_rbf)\n",
        "\n",
        "# Print the results\n",
        "print(\"Accuracy with Linear Kernel:\", acc_linear)\n",
        "print(\"Accuracy with RBF Kernel:\", acc_rbf)\n",
        "\n",
        "# Compare which is better\n",
        "if acc_linear > acc_rbf:\n",
        "    print(\"✅ Linear Kernel performed better.\")\n",
        "elif acc_rbf > acc_linear:\n",
        "    print(\"✅ RBF Kernel performed better.\")\n",
        "else:\n",
        "    print(\"🤝 Both kernels performed equally well.\")\n"
      ],
      "metadata": {
        "colab": {
          "base_uri": "https://localhost:8080/"
        },
        "id": "cri0UZHPNSsy",
        "outputId": "2a04587e-b1f4-4072-cb25-e56a67fb91c7"
      },
      "execution_count": 4,
      "outputs": [
        {
          "output_type": "stream",
          "name": "stdout",
          "text": [
            "Accuracy with Linear Kernel: 0.9814814814814815\n",
            "Accuracy with RBF Kernel: 0.7592592592592593\n",
            "✅ Linear Kernel performed better.\n"
          ]
        }
      ]
    },
    {
      "cell_type": "markdown",
      "source": [
        "Question 8: What is the Naïve Bayes classifier, and why is it called \"Naïve\"?\n",
        "\n",
        "The Naïve Bayes classifier is a supervised machine learning algorithm based on Bayes' Theorem.\n",
        "It is mainly used for classification tasks, especially in text classification (like spam detection, sentiment analysis, etc.).\\\n",
        "\n",
        "\n",
        "Why is it called \"Naïve\"?\n",
        "\n",
        "It's called “Naïve” because it makes a simple (and unrealistic) assumption —\n",
        "that all features are independent of each other.\n",
        "\n",
        "In real life, this is rarely true (for example, in an email, the words “buy” and “offer” are related).\n",
        "But surprisingly, Naïve Bayes still works very well in many situations."
      ],
      "metadata": {
        "id": "fXUeD1pONZgM"
      }
    },
    {
      "cell_type": "code",
      "source": [
        "#8\n",
        "from sklearn.datasets import load_iris\n",
        "from sklearn.model_selection import train_test_split\n",
        "from sklearn.naive_bayes import GaussianNB\n",
        "from sklearn.metrics import accuracy_score\n",
        "\n",
        "# Load dataset\n",
        "iris = load_iris()\n",
        "X = iris.data\n",
        "y = iris.target\n",
        "\n",
        "# Split data\n",
        "X_train, X_test, y_train, y_test = train_test_split(X, y, test_size=0.3, random_state=42)\n",
        "\n",
        "# Train Naïve Bayes model\n",
        "model = GaussianNB()\n",
        "model.fit(X_train, y_train)\n",
        "\n",
        "# Predict and check accuracy\n",
        "y_pred = model.predict(X_test)\n",
        "print(\"Accuracy:\", accuracy_score(y_test, y_pred))\n"
      ],
      "metadata": {
        "colab": {
          "base_uri": "https://localhost:8080/"
        },
        "id": "k6snbTRNNrjh",
        "outputId": "98a693ae-8a81-4bd4-a8ac-d85bd75b0294"
      },
      "execution_count": 5,
      "outputs": [
        {
          "output_type": "stream",
          "name": "stdout",
          "text": [
            "Accuracy: 0.9777777777777777\n"
          ]
        }
      ]
    },
    {
      "cell_type": "markdown",
      "source": [
        "Question 9: Explain the differences between Gaussian Naïve Bayes, Multinomial Naïve\n",
        "Bayes, and Bernoulli Naïve Bayes\n",
        "\n",
        "\n",
        "\n",
        "\n",
        "1. Gaussian Naïve Bayes\n",
        "\n",
        "* Used when the features are continuous (numeric).\n",
        "* Assumes that the data for each class follows a normal (Gaussian) distribution.\n",
        "* Example: height, weight, age, or temperature values.\n",
        "* Often used in datasets like Iris or medical data.\n",
        "\n",
        "Example use case:\n",
        "Predicting whether a patient has a disease based on continuous values like blood pressure or cholesterol level.\n",
        "\n",
        "\n",
        "\n",
        "2. Multinomial Naïve Bayes\n",
        "\n",
        "* Used when the features are counts or frequencies.\n",
        "* Commonly used for text classification tasks (e.g., spam detection, sentiment analysis).\n",
        "* Assumes that feature values represent the number of times something occurs (like word counts).\n",
        "\n",
        "Example use case:\n",
        "Classifying emails as *spam* or *not spam* based on how many times words like “free,” “offer,” or “buy” appear.\n",
        "\n",
        "\n",
        "\n",
        "3. Bernoulli Naïve Bayes\n",
        "\n",
        "* Used when the features are binary (0 or 1) — i.e., whether a feature is present or absent.\n",
        "* Also used for text classification, but instead of word counts, it looks at whether a word appears at all.\n",
        "* Example: 1 if a word appears in the email, 0 if it doesn’t.\n",
        "\n",
        "Example use case:\n",
        "Spam detection where we only check whether certain keywords exist or not, not how many times.\n",
        "\n",
        "\n"
      ],
      "metadata": {
        "id": "5nWk6mLDN8Ru"
      }
    },
    {
      "cell_type": "markdown",
      "source": [
        "Question 10: Breast Cancer Dataset\n",
        "Write a Python program to train a Gaussian Naïve Bayes classifier on the Breast Cancer\n",
        "dataset and evaluate accuracy."
      ],
      "metadata": {
        "id": "DCeObvAVOziN"
      }
    },
    {
      "cell_type": "code",
      "source": [
        "#10\n",
        "# Import required libraries\n",
        "from sklearn.datasets import load_breast_cancer\n",
        "from sklearn.model_selection import train_test_split\n",
        "from sklearn.naive_bayes import GaussianNB\n",
        "from sklearn.metrics import accuracy_score, classification_report\n",
        "\n",
        "# Load the Breast Cancer dataset\n",
        "data = load_breast_cancer()\n",
        "X = data.data\n",
        "y = data.target\n",
        "\n",
        "# Split data into training and testing sets\n",
        "X_train, X_test, y_train, y_test = train_test_split(\n",
        "    X, y, test_size=0.3, random_state=42\n",
        ")\n",
        "\n",
        "# Create a Gaussian Naïve Bayes model\n",
        "gnb = GaussianNB()\n",
        "\n",
        "# Train the model\n",
        "gnb.fit(X_train, y_train)\n",
        "\n",
        "# Make predictions\n",
        "y_pred = gnb.predict(X_test)\n",
        "\n",
        "# Calculate accuracy\n",
        "accuracy = accuracy_score(y_test, y_pred)\n",
        "\n",
        "# Display results\n",
        "print(\"Accuracy of Gaussian Naïve Bayes on Breast Cancer Dataset:\", accuracy)\n",
        "print(\"\\nClassification Report:\\n\", classification_report(y_test, y_pred))\n"
      ],
      "metadata": {
        "colab": {
          "base_uri": "https://localhost:8080/"
        },
        "id": "0uRQQRcPO2ge",
        "outputId": "a955976a-b168-4bfe-e3ac-c1cb590a9234"
      },
      "execution_count": 6,
      "outputs": [
        {
          "output_type": "stream",
          "name": "stdout",
          "text": [
            "Accuracy of Gaussian Naïve Bayes on Breast Cancer Dataset: 0.9415204678362573\n",
            "\n",
            "Classification Report:\n",
            "               precision    recall  f1-score   support\n",
            "\n",
            "           0       0.93      0.90      0.92        63\n",
            "           1       0.95      0.96      0.95       108\n",
            "\n",
            "    accuracy                           0.94       171\n",
            "   macro avg       0.94      0.93      0.94       171\n",
            "weighted avg       0.94      0.94      0.94       171\n",
            "\n"
          ]
        }
      ]
    }
  ]
}